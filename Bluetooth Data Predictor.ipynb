{
 "cells": [
  {
   "cell_type": "code",
   "execution_count": null,
   "metadata": {},
   "outputs": [],
   "source": [
    "# Libraries required\n",
    "import bluetooth\n",
    "import pyttsx3\n",
    "from joblib import  load"
   ]
  },
  {
   "cell_type": "code",
   "execution_count": null,
   "metadata": {},
   "outputs": [],
   "source": [
    "ESP32_MAC_ADDRESS = '0C:8B:95:95:2A:FA'    # MAC address of ESP32's bluetooth"
   ]
  },
  {
   "cell_type": "code",
   "execution_count": null,
   "metadata": {},
   "outputs": [],
   "source": [
    "#Load pretrained model\n",
    "model_directory = 'C:\\\\Users\\\\sahil\\\\OneDrive\\\\Desktop\\\\model.joblib'\n",
    "model=load(model_directory)"
   ]
  },
  {
   "cell_type": "code",
   "execution_count": null,
   "metadata": {},
   "outputs": [],
   "source": [
    "# Start text to speach covterter\n",
    "engine = pyttsx3.init()\n",
    "print(engine.getProperty('rate'))\n",
    "voices = engine.getProperty('voices')\n",
    "engine.setProperty('voice', voices[1].id) #changing index changes voices but ony 0 and 1 are working here"
   ]
  },
  {
   "cell_type": "code",
   "execution_count": null,
   "metadata": {},
   "outputs": [],
   "source": [
    "# Function to process received sensor data here\n",
    "# Param: Data\n",
    "# Ret: Nothing\n",
    "\n",
    "def process_data(data):\n",
    "    lis=data.split(\",\")\n",
    "    lis = list(map(float, lis[0:5]))+list(map(float, lis[5:]))\n",
    "    print(lis)\n",
    "    lis=[lis]\n",
    "    prediction=model.predict(lis)\n",
    "    pyttsx3.speak(prediction[0])\n",
    "    print(prediction)"
   ]
  },
  {
   "cell_type": "code",
   "execution_count": null,
   "metadata": {},
   "outputs": [],
   "source": [
    "print(\"running\")\n",
    "\n",
    "def main():\n",
    "    # Try to connect to bluetooth\n",
    "    try:\n",
    "        sock = bluetooth.BluetoothSocket(bluetooth.RFCOMM)\n",
    "        sock.connect((ESP32_MAC_ADDRESS, 1))\n",
    "        print(f\"Connected to ESP32 with MAC address: {ESP32_MAC_ADDRESS}\")\n",
    "    except bluetooth.btcommon.BluetoothError as e:\n",
    "        print(f\"Error: {e}\")\n",
    "        return\n",
    "    \n",
    "    try:\n",
    "        while True:\n",
    "            try:\n",
    "                # Read the size of the message (2 bytes)\n",
    "                size_data = sock.recv(2)\n",
    "                if not size_data:\n",
    "                    print(\"Disconnected from ESP32.\")\n",
    "                    break\n",
    "                \n",
    "                # Ensure that size_data contains both bytes\n",
    "                while len(size_data) < 2:\n",
    "                    size_data += sock.recv(2 - len(size_data))\n",
    "\n",
    "                # Convert bytes to an integer\n",
    "                message_size = size_data[0] + (size_data[1] << 8)\n",
    "\n",
    "                # Read the actual message based on the determined size\n",
    "                data = sock.recv(message_size)\n",
    "                if data:\n",
    "                    try:\n",
    "                        decoded_data = data.decode('utf-8').strip()\n",
    "                        print(\"Received:\", decoded_data)\n",
    "                        process_data(decoded_data)        \n",
    "                    except UnicodeDecodeError as e:\n",
    "                        print(\"Error decoding data:\", e)\n",
    "                        print(\"Problematic bytes:\", data.hex())\n",
    "            except bluetooth.btcommon.BluetoothError as e:\n",
    "                print(f\"Bluetooth error: {e}\")\n",
    "                print(\"Disconnected from ESP32.\")\n",
    "                break\n",
    "            \n",
    "    except KeyboardInterrupt:\n",
    "        print(\"\\nExiting...\")\n",
    "    finally:\n",
    "        sock.close()\n",
    "\n",
    "\n",
    "if __name__ == \"__main__\":\n",
    "    main()"
   ]
  }
 ],
 "metadata": {
  "kernelspec": {
   "display_name": "base",
   "language": "python",
   "name": "python3"
  },
  "language_info": {
   "name": "python",
   "version": "3.9.13"
  }
 },
 "nbformat": 4,
 "nbformat_minor": 2
}
