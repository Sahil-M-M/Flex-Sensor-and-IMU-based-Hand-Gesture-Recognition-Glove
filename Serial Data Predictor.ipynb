{
 "cells": [
  {
   "cell_type": "code",
   "execution_count": null,
   "metadata": {},
   "outputs": [],
   "source": [
    "import serial\n",
    "import pyttsx3\n",
    "from joblib import  load"
   ]
  },
  {
   "cell_type": "code",
   "execution_count": null,
   "metadata": {},
   "outputs": [],
   "source": [
    "#Load pretrained model\n",
    "model_directory = 'C:\\\\Users\\\\sahil\\\\OneDrive\\\\Desktop\\\\model.joblib'     \n",
    "model=load(model_directory)"
   ]
  },
  {
   "cell_type": "code",
   "execution_count": null,
   "metadata": {},
   "outputs": [],
   "source": [
    "# Start text to speach covterter\n",
    "engine = pyttsx3.init()\n",
    "print(engine.getProperty('rate'))\n",
    "voices = engine.getProperty('voices')\n",
    "engine.setProperty('voice', voices[1].id)                                           #changing index changes voices but ony 0 and 1 are working here"
   ]
  },
  {
   "cell_type": "code",
   "execution_count": null,
   "metadata": {},
   "outputs": [],
   "source": [
    "# Access serial port where ESP32 is connected\n",
    "ser=serial.Serial(\"COM15\",115200,timeout=2)\n",
    "print(ser)"
   ]
  },
  {
   "cell_type": "code",
   "execution_count": null,
   "metadata": {},
   "outputs": [],
   "source": [
    "\n",
    "print(\"running\")\n",
    " \n",
    "while True:\n",
    "    try:\n",
    "        # Read data from serial port\n",
    "        data = ser.readline().decode(\"ascii\").strip()\n",
    "\n",
    "        if (len(data)<21):\n",
    "            continue\n",
    "        \n",
    "        # print(data)\n",
    "        # data=data[2:-3]\n",
    "        print(data)\n",
    "        data_list=data.split(\",\")                                                    # Split data at , & store into a list\n",
    "        data_list = list(map(int, data_list[0:5]))+list(map(float, data_list[5:]))   # Convert data into int & float as collected at source\n",
    "        print(data_list)\n",
    "        data_list=[data_list]\n",
    "        prediction=model.predict(data_list)                                          # Predict based on data recived\n",
    "        pyttsx3.speak(prediction[0])                                                 # Speak whatever predicted \n",
    "        print(prediction)\n",
    "    except Exception as e:\n",
    "        print(\"Error:\", e)\n"
   ]
  }
 ],
 "metadata": {
  "kernelspec": {
   "display_name": "base",
   "language": "python",
   "name": "python3"
  },
  "language_info": {
   "name": "python",
   "version": "3.9.13"
  }
 },
 "nbformat": 4,
 "nbformat_minor": 2
}
