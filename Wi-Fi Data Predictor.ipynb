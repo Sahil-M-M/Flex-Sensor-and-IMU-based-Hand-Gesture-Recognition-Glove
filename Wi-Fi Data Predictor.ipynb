{
 "cells": [
  {
   "cell_type": "code",
   "execution_count": 1,
   "metadata": {},
   "outputs": [],
   "source": [
    "# Libraries required\n",
    "import urllib.request\n",
    "import pyttsx3\n",
    "from joblib import  load"
   ]
  },
  {
   "cell_type": "code",
   "execution_count": 2,
   "metadata": {},
   "outputs": [],
   "source": [
    "url = \"http://10.0.0.83\"    # ESP's IP"
   ]
  },
  {
   "cell_type": "code",
   "execution_count": 3,
   "metadata": {},
   "outputs": [],
   "source": [
    "#Load pretrained model\n",
    "model_directory = 'C:\\\\Users\\\\sahil\\\\OneDrive\\\\Desktop\\\\model.joblib'\n",
    "model=load(model_directory)"
   ]
  },
  {
   "cell_type": "code",
   "execution_count": 4,
   "metadata": {},
   "outputs": [
    {
     "name": "stdout",
     "output_type": "stream",
     "text": [
      "200\n"
     ]
    }
   ],
   "source": [
    "# Start text to speach covterter\n",
    "engine = pyttsx3.init()\n",
    "print(engine.getProperty('rate'))\n",
    "voices = engine.getProperty('voices')\n",
    "engine.setProperty('voice', voices[1].id) #changing index changes voices but ony 0 and 1 are working here"
   ]
  },
  {
   "cell_type": "code",
   "execution_count": 5,
   "metadata": {},
   "outputs": [],
   "source": [
    "#Function to get data from ESP32 using Wi-Fi\n",
    "#Param: Model, DF containing all the combined data (pd), Number of samples (int)\n",
    "#Ret: Training time (Float), accuracy (Float)\n",
    "\n",
    "def get_data():\n",
    "\tn = urllib.request.urlopen(url).read() \t\t\t# get the raw html data in bytes (sends request for data to esp32)\n",
    "\tn = n.decode(\"utf-8\") \t\t\t\t\t\t\t# convert raw html bytes format to string \n",
    "\n",
    "\tdata = n\n",
    " \n",
    "\treturn data\n",
    "#\tdata = n.split() #<optional> split datas we got. (if you programmed it to send more than one value) It splits them into seperate list elements.\n",
    "#\tdata = list(map(int, data)) #<optional> turn datas to integers, now all list elements are integers.\n"
   ]
  },
  {
   "cell_type": "code",
   "execution_count": 6,
   "metadata": {},
   "outputs": [
    {
     "name": "stdout",
     "output_type": "stream",
     "text": [
      "running\n",
      "Received from EPS32: 15,412,301,202,339,0.965088,-0.258179,-0.034546,0.026672,0.000000,-0.007634,-0.015267,1.088623,-8.346509,10.477099,0.569434,-3.444116,2.007373,0.521582,-1.942773,3.487183\n",
      "[15.0, 412.0, 301.0, 202.0, 339.0, 0.965088, -0.258179, -0.034546, 0.026672, 0.0, -0.007634, -0.015267, 1.088623, -8.346509, 10.477099, 0.569434, -3.444116, 2.007373, 0.521582, -1.942773, 3.487183]\n"
     ]
    },
    {
     "name": "stderr",
     "output_type": "stream",
     "text": [
      "c:\\Users\\sahil\\anaconda3\\lib\\site-packages\\sklearn\\base.py:450: UserWarning: X does not have valid feature names, but SVC was fitted with feature names\n",
      "  warnings.warn(\n"
     ]
    },
    {
     "name": "stdout",
     "output_type": "stream",
     "text": [
      "['o']\n",
      "Received from EPS32: 5,300,321,60,201,0.945557,-0.309692,-0.041321,0.090759,-0.007634,0.000000,0.000000,0.401953,-7.723242,10.431641,0.186621,-1.909277,2.544507,0.119629,-0.002393,3.183325\n",
      "[5.0, 300.0, 321.0, 60.0, 201.0, 0.945557, -0.309692, -0.041321, 0.090759, -0.007634, 0.0, 0.0, 0.401953, -7.723242, 10.431641, 0.186621, -1.909277, 2.544507, 0.119629, -0.002393, 3.183325]\n"
     ]
    },
    {
     "name": "stderr",
     "output_type": "stream",
     "text": [
      "c:\\Users\\sahil\\anaconda3\\lib\\site-packages\\sklearn\\base.py:450: UserWarning: X does not have valid feature names, but SVC was fitted with feature names\n",
      "  warnings.warn(\n"
     ]
    },
    {
     "name": "stdout",
     "output_type": "stream",
     "text": [
      "['c']\n",
      "Received from EPS32: -4,388,311,62,178,0.945801,-0.308960,-0.044556,0.089478,-0.007634,-0.007634,0.000000,0.386401,-7.759131,10.428052,0.101685,-1.953540,2.537329,0.021533,-0.065796,3.202466\n",
      "[-4.0, 388.0, 311.0, 62.0, 178.0, 0.945801, -0.30896, -0.044556, 0.089478, -0.007634, -0.007634, 0.0, 0.386401, -7.759131, 10.428052, 0.101685, -1.95354, 2.537329, 0.021533, -0.065796, 3.202466]\n"
     ]
    },
    {
     "name": "stderr",
     "output_type": "stream",
     "text": [
      "c:\\Users\\sahil\\anaconda3\\lib\\site-packages\\sklearn\\base.py:450: UserWarning: X does not have valid feature names, but SVC was fitted with feature names\n",
      "  warnings.warn(\n"
     ]
    },
    {
     "name": "stdout",
     "output_type": "stream",
     "text": [
      "['c']\n",
      "Received from EPS32: -8,374,305,64,178,0.945374,-0.310181,-0.045898,0.089111,0.000000,-0.007634,-0.007634,0.386401,-7.779468,10.453174,0.076563,-1.951147,2.579199,-0.017944,-0.037085,3.233569\n",
      "[-8.0, 374.0, 305.0, 64.0, 178.0, 0.945374, -0.310181, -0.045898, 0.089111, 0.0, -0.007634, -0.007634, 0.386401, -7.779468, 10.453174, 0.076563, -1.951147, 2.579199, -0.017944, -0.037085, 3.233569]\n"
     ]
    },
    {
     "name": "stderr",
     "output_type": "stream",
     "text": [
      "c:\\Users\\sahil\\anaconda3\\lib\\site-packages\\sklearn\\base.py:450: UserWarning: X does not have valid feature names, but SVC was fitted with feature names\n",
      "  warnings.warn(\n"
     ]
    },
    {
     "name": "stdout",
     "output_type": "stream",
     "text": [
      "['c']\n",
      "Received from EPS32: -41,344,280,80,228,0.964844,-0.247314,-0.002380,-0.088745,-0.030534,0.229008,-0.541985,2.124609,-11.672193,12.236841,1.648486,-6.998291,3.635522,0.557471,-4.574609,6.607104\n",
      "[-41.0, 344.0, 280.0, 80.0, 228.0, 0.964844, -0.247314, -0.00238, -0.088745, -0.030534, 0.229008, -0.541985, 2.124609, -11.672193, 12.236841, 1.648486, -6.998291, 3.635522, 0.557471, -4.574609, 6.607104]\n"
     ]
    },
    {
     "name": "stderr",
     "output_type": "stream",
     "text": [
      "c:\\Users\\sahil\\anaconda3\\lib\\site-packages\\sklearn\\base.py:450: UserWarning: X does not have valid feature names, but SVC was fitted with feature names\n",
      "  warnings.warn(\n"
     ]
    },
    {
     "name": "stdout",
     "output_type": "stream",
     "text": [
      "['c']\n",
      "Received from EPS32: -130,917,972,751,949,0.578674,-0.331726,-0.048035,-0.743530,0.038168,-0.022901,0.007634,12.901978,-0.801514,14.014526,7.522265,2.259790,6.415698,3.994409,-4.047046,8.396753\n",
      "[-130.0, 917.0, 972.0, 751.0, 949.0, 0.578674, -0.331726, -0.048035, -0.74353, 0.038168, -0.022901, 0.007634, 12.901978, -0.801514, 14.014526, 7.522265, 2.25979, 6.415698, 3.994409, -4.047046, 8.396753]\n"
     ]
    },
    {
     "name": "stderr",
     "output_type": "stream",
     "text": [
      "c:\\Users\\sahil\\anaconda3\\lib\\site-packages\\sklearn\\base.py:450: UserWarning: X does not have valid feature names, but SVC was fitted with feature names\n",
      "  warnings.warn(\n"
     ]
    },
    {
     "name": "stdout",
     "output_type": "stream",
     "text": [
      "['a']\n",
      "Received from EPS32: -132,873,922,701,899,0.543640,-0.324219,-0.166138,-0.756165,0.007634,0.000000,0.000000,12.669897,-1.050342,13.351782,6.093896,-0.057422,6.152514,0.640015,-0.618481,8.613281\n",
      "[-132.0, 873.0, 922.0, 701.0, 899.0, 0.54364, -0.324219, -0.166138, -0.756165, 0.007634, 0.0, 0.0, 12.669897, -1.050342, 13.351782, 6.093896, -0.057422, 6.152514, 0.640015, -0.618481, 8.613281]\n"
     ]
    },
    {
     "name": "stderr",
     "output_type": "stream",
     "text": [
      "c:\\Users\\sahil\\anaconda3\\lib\\site-packages\\sklearn\\base.py:450: UserWarning: X does not have valid feature names, but SVC was fitted with feature names\n",
      "  warnings.warn(\n"
     ]
    },
    {
     "name": "stdout",
     "output_type": "stream",
     "text": [
      "['a']\n",
      "Received from EPS32: -132,854,908,683,874,0.534241,-0.321167,-0.184387,-0.759888,-0.007634,0.000000,-0.007634,12.586157,-1.085034,13.282397,5.871387,-0.467749,6.170459,0.051440,-0.055029,8.529541\n",
      "[-132.0, 854.0, 908.0, 683.0, 874.0, 0.534241, -0.321167, -0.184387, -0.759888, -0.007634, 0.0, -0.007634, 12.586157, -1.085034, 13.282397, 5.871387, -0.467749, 6.170459, 0.05144, -0.055029, 8.529541]\n"
     ]
    },
    {
     "name": "stderr",
     "output_type": "stream",
     "text": [
      "c:\\Users\\sahil\\anaconda3\\lib\\site-packages\\sklearn\\base.py:450: UserWarning: X does not have valid feature names, but SVC was fitted with feature names\n",
      "  warnings.warn(\n"
     ]
    },
    {
     "name": "stdout",
     "output_type": "stream",
     "text": [
      "['a']\n",
      "Received from EPS32: -130,849,889,671,862,0.531067,-0.320068,-0.186707,-0.762024,0.000000,0.000000,-0.007634,12.558642,-0.968994,13.274023,5.834302,-0.425879,6.164477,0.040674,-0.017944,8.497241\n",
      "[-130.0, 849.0, 889.0, 671.0, 862.0, 0.531067, -0.320068, -0.186707, -0.762024, 0.0, 0.0, -0.007634, 12.558642, -0.968994, 13.274023, 5.834302, -0.425879, 6.164477, 0.040674, -0.017944, 8.497241]\n"
     ]
    },
    {
     "name": "stderr",
     "output_type": "stream",
     "text": [
      "c:\\Users\\sahil\\anaconda3\\lib\\site-packages\\sklearn\\base.py:450: UserWarning: X does not have valid feature names, but SVC was fitted with feature names\n",
      "  warnings.warn(\n"
     ]
    },
    {
     "name": "stdout",
     "output_type": "stream",
     "text": [
      "['a']\n",
      "Received from EPS32: -132,751,788,509,732,0.536011,-0.320251,-0.183228,-0.759338,-0.007634,-0.091603,-0.022901,12.218897,-1.320703,13.541992,5.526855,-0.683081,6.409717,0.003589,0.378027,8.481689\n",
      "[-132.0, 751.0, 788.0, 509.0, 732.0, 0.536011, -0.320251, -0.183228, -0.759338, -0.007634, -0.091603, -0.022901, 12.218897, -1.320703, 13.541992, 5.526855, -0.683081, 6.409717, 0.003589, 0.378027, 8.481689]\n"
     ]
    },
    {
     "name": "stderr",
     "output_type": "stream",
     "text": [
      "c:\\Users\\sahil\\anaconda3\\lib\\site-packages\\sklearn\\base.py:450: UserWarning: X does not have valid feature names, but SVC was fitted with feature names\n",
      "  warnings.warn(\n"
     ]
    },
    {
     "name": "stdout",
     "output_type": "stream",
     "text": [
      "['a']\n",
      "Received from EPS32: 141,-29,-121,-94,99,0.547852,-0.370850,-0.177979,-0.728516,0.000000,-0.007634,0.000000,11.636304,-1.488184,11.901880,4.429858,-0.046655,5.416797,1.274048,0.669922,6.847558\n",
      "[141.0, -29.0, -121.0, -94.0, 99.0, 0.547852, -0.37085, -0.177979, -0.728516, 0.0, -0.007634, 0.0, 11.636304, -1.488184, 11.90188, 4.429858, -0.046655, 5.416797, 1.274048, 0.669922, 6.847558]\n"
     ]
    },
    {
     "name": "stderr",
     "output_type": "stream",
     "text": [
      "c:\\Users\\sahil\\anaconda3\\lib\\site-packages\\sklearn\\base.py:450: UserWarning: X does not have valid feature names, but SVC was fitted with feature names\n",
      "  warnings.warn(\n"
     ]
    },
    {
     "name": "stdout",
     "output_type": "stream",
     "text": [
      "['b']\n",
      "Received from EPS32: 123,-14,-121,-88,97,0.544189,-0.341309,-0.186523,-0.743408,0.000000,-0.007634,-0.007634,11.662622,-1.435547,11.839673,4.699023,-0.512012,5.002881,0.221313,0.214136,6.876269\n",
      "[123.0, -14.0, -121.0, -88.0, 97.0, 0.544189, -0.341309, -0.186523, -0.743408, 0.0, -0.007634, -0.007634, 11.662622, -1.435547, 11.839673, 4.699023, -0.512012, 5.002881, 0.221313, 0.214136, 6.876269]\n"
     ]
    },
    {
     "name": "stderr",
     "output_type": "stream",
     "text": [
      "c:\\Users\\sahil\\anaconda3\\lib\\site-packages\\sklearn\\base.py:450: UserWarning: X does not have valid feature names, but SVC was fitted with feature names\n",
      "  warnings.warn(\n"
     ]
    },
    {
     "name": "stdout",
     "output_type": "stream",
     "text": [
      "['b']\n",
      "Received from EPS32: 115,-3,-118,-83,98,0.542725,-0.334229,-0.186890,-0.747559,-0.007634,0.000000,-0.007634,11.651855,-1.459473,11.839673,4.766016,-0.642407,4.913159,-0.035889,0.101685,6.873877\n",
      "[115.0, -3.0, -118.0, -83.0, 98.0, 0.542725, -0.334229, -0.18689, -0.747559, -0.007634, 0.0, -0.007634, 11.651855, -1.459473, 11.839673, 4.766016, -0.642407, 4.913159, -0.035889, 0.101685, 6.873877]\n"
     ]
    },
    {
     "name": "stderr",
     "output_type": "stream",
     "text": [
      "c:\\Users\\sahil\\anaconda3\\lib\\site-packages\\sklearn\\base.py:450: UserWarning: X does not have valid feature names, but SVC was fitted with feature names\n",
      "  warnings.warn(\n"
     ]
    },
    {
     "name": "stdout",
     "output_type": "stream",
     "text": [
      "['b']\n",
      "Received from EPS32: 107,2,-112,-81,101,0.540283,-0.334900,-0.186646,-0.749084,-0.007634,-0.007634,-0.007634,11.572901,-1.387695,11.763110,4.678687,-0.581396,4.843774,0.011963,0.106470,6.757837\n",
      "[107.0, 2.0, -112.0, -81.0, 101.0, 0.540283, -0.3349, -0.186646, -0.749084, -0.007634, -0.007634, -0.007634, 11.572901, -1.387695, 11.76311, 4.678687, -0.581396, 4.843774, 0.011963, 0.10647, 6.757837]\n"
     ]
    },
    {
     "name": "stderr",
     "output_type": "stream",
     "text": [
      "c:\\Users\\sahil\\anaconda3\\lib\\site-packages\\sklearn\\base.py:450: UserWarning: X does not have valid feature names, but SVC was fitted with feature names\n",
      "  warnings.warn(\n"
     ]
    },
    {
     "name": "stdout",
     "output_type": "stream",
     "text": [
      "['b']\n",
      "Received from EPS32: 95,5,-105,-88,101,0.538879,-0.334167,-0.185669,-0.750671,-0.007634,-0.007634,0.000000,11.580078,-1.314722,11.770288,4.701416,-0.516797,4.834204,0.053833,0.049048,6.762622\n",
      "[95.0, 5.0, -105.0, -88.0, 101.0, 0.538879, -0.334167, -0.185669, -0.750671, -0.007634, -0.007634, 0.0, 11.580078, -1.314722, 11.770288, 4.701416, -0.516797, 4.834204, 0.053833, 0.049048, 6.762622]\n"
     ]
    },
    {
     "name": "stderr",
     "output_type": "stream",
     "text": [
      "c:\\Users\\sahil\\anaconda3\\lib\\site-packages\\sklearn\\base.py:450: UserWarning: X does not have valid feature names, but SVC was fitted with feature names\n",
      "  warnings.warn(\n"
     ]
    },
    {
     "name": "stdout",
     "output_type": "stream",
     "text": [
      "['b']\n",
      "Received from EPS32: 92,18,-96,-82,99,0.538208,-0.333435,-0.184875,-0.751648,-0.007634,-0.007634,0.000000,11.584864,-1.305151,11.781054,4.721753,-0.510815,4.829419,0.046655,0.016748,6.772192\n",
      "[92.0, 18.0, -96.0, -82.0, 99.0, 0.538208, -0.333435, -0.184875, -0.751648, -0.007634, -0.007634, 0.0, 11.584864, -1.305151, 11.781054, 4.721753, -0.510815, 4.829419, 0.046655, 0.016748, 6.772192]\n"
     ]
    },
    {
     "name": "stderr",
     "output_type": "stream",
     "text": [
      "c:\\Users\\sahil\\anaconda3\\lib\\site-packages\\sklearn\\base.py:450: UserWarning: X does not have valid feature names, but SVC was fitted with feature names\n",
      "  warnings.warn(\n"
     ]
    },
    {
     "name": "stdout",
     "output_type": "stream",
     "text": [
      "['b']\n",
      "Received from EPS32: 90,19,-79,-76,99,0.536621,-0.334534,-0.192444,-0.750427,0.068702,-0.068702,0.007634,11.944946,-0.364868,12.279907,4.999292,0.322998,5.397656,0.894824,0.001196,7.309326\n",
      "[90.0, 19.0, -79.0, -76.0, 99.0, 0.536621, -0.334534, -0.192444, -0.750427, 0.068702, -0.068702, 0.007634, 11.944946, -0.364868, 12.279907, 4.999292, 0.322998, 5.397656, 0.894824, 0.001196, 7.309326]\n"
     ]
    },
    {
     "name": "stderr",
     "output_type": "stream",
     "text": [
      "c:\\Users\\sahil\\anaconda3\\lib\\site-packages\\sklearn\\base.py:450: UserWarning: X does not have valid feature names, but SVC was fitted with feature names\n",
      "  warnings.warn(\n"
     ]
    },
    {
     "name": "stdout",
     "output_type": "stream",
     "text": [
      "['b']\n",
      "Received from EPS32: -90,146,124,-3,167,0.819702,-0.486145,-0.286865,-0.097046,0.022901,-0.038168,-0.030534,-1.172363,-7.363159,9.953125,-6.705200,-0.098096,6.397754,-7.923022,4.600928,-1.392480\n",
      "[-90.0, 146.0, 124.0, -3.0, 167.0, 0.819702, -0.486145, -0.286865, -0.097046, 0.022901, -0.038168, -0.030534, -1.172363, -7.363159, 9.953125, -6.7052, -0.098096, 6.397754, -7.923022, 4.600928, -1.39248]\n"
     ]
    },
    {
     "name": "stderr",
     "output_type": "stream",
     "text": [
      "c:\\Users\\sahil\\anaconda3\\lib\\site-packages\\sklearn\\base.py:450: UserWarning: X does not have valid feature names, but SVC was fitted with feature names\n",
      "  warnings.warn(\n"
     ]
    },
    {
     "name": "stdout",
     "output_type": "stream",
     "text": [
      "['c']\n",
      "Received from EPS32: -84,530,279,93,196,0.901794,-0.391602,-0.145264,-0.111023,-0.068702,-0.099237,0.000000,0.474927,-7.150220,10.111035,-2.944067,-0.544312,3.730029,-3.570923,2.644995,1.768115\n",
      "[-84.0, 530.0, 279.0, 93.0, 196.0, 0.901794, -0.391602, -0.145264, -0.111023, -0.068702, -0.099237, 0.0, 0.474927, -7.15022, 10.111035, -2.944067, -0.544312, 3.730029, -3.570923, 2.644995, 1.768115]\n"
     ]
    },
    {
     "name": "stderr",
     "output_type": "stream",
     "text": [
      "c:\\Users\\sahil\\anaconda3\\lib\\site-packages\\sklearn\\base.py:450: UserWarning: X does not have valid feature names, but SVC was fitted with feature names\n",
      "  warnings.warn(\n"
     ]
    },
    {
     "name": "stdout",
     "output_type": "stream",
     "text": [
      "['c']\n",
      "Received from EPS32: -53,599,251,68,196,0.939331,-0.333191,-0.039856,-0.070679,-0.030534,-0.038168,0.000000,0.436646,-7.367944,10.063184,-0.758447,-1.288403,2.470337,-1.021631,0.650781,2.619873\n",
      "[-53.0, 599.0, 251.0, 68.0, 196.0, 0.939331, -0.333191, -0.039856, -0.070679, -0.030534, -0.038168, 0.0, 0.436646, -7.367944, 10.063184, -0.758447, -1.288403, 2.470337, -1.021631, 0.650781, 2.619873]\n"
     ]
    },
    {
     "name": "stderr",
     "output_type": "stream",
     "text": [
      "c:\\Users\\sahil\\anaconda3\\lib\\site-packages\\sklearn\\base.py:450: UserWarning: X does not have valid feature names, but SVC was fitted with feature names\n",
      "  warnings.warn(\n"
     ]
    },
    {
     "name": "stdout",
     "output_type": "stream",
     "text": [
      "['c']\n",
      "Received from EPS32: -35,753,321,76,205,0.947632,-0.313354,-0.009644,-0.060669,-0.022901,-0.030534,0.015267,0.441431,-7.439722,10.105054,-0.110059,-1.630542,2.231079,-0.261987,0.040674,2.752661\n",
      "[-35.0, 753.0, 321.0, 76.0, 205.0, 0.947632, -0.313354, -0.009644, -0.060669, -0.022901, -0.030534, 0.015267, 0.441431, -7.439722, 10.105054, -0.110059, -1.630542, 2.231079, -0.261987, 0.040674, 2.752661]\n"
     ]
    },
    {
     "name": "stderr",
     "output_type": "stream",
     "text": [
      "c:\\Users\\sahil\\anaconda3\\lib\\site-packages\\sklearn\\base.py:450: UserWarning: X does not have valid feature names, but SVC was fitted with feature names\n",
      "  warnings.warn(\n"
     ]
    },
    {
     "name": "stdout",
     "output_type": "stream",
     "text": [
      "['o']\n",
      "Received from EPS32: -14,333,228,61,197,0.948914,-0.310852,-0.003235,-0.053833,-0.015267,-0.022901,-0.022901,0.364868,-7.387085,10.264160,-0.022729,-1.609009,2.357886,-0.125610,0.105273,2.849560\n",
      "[-14.0, 333.0, 228.0, 61.0, 197.0, 0.948914, -0.310852, -0.003235, -0.053833, -0.015267, -0.022901, -0.022901, 0.364868, -7.387085, 10.26416, -0.022729, -1.609009, 2.357886, -0.12561, 0.105273, 2.84956]\n"
     ]
    },
    {
     "name": "stderr",
     "output_type": "stream",
     "text": [
      "c:\\Users\\sahil\\anaconda3\\lib\\site-packages\\sklearn\\base.py:450: UserWarning: X does not have valid feature names, but SVC was fitted with feature names\n",
      "  warnings.warn(\n"
     ]
    },
    {
     "name": "stdout",
     "output_type": "stream",
     "text": [
      "['c']\n",
      "Received from EPS32: -26,185,224,60,202,0.949890,-0.306519,0.004578,-0.061340,-0.007634,0.000000,0.000000,0.510815,-7.324878,10.112231,0.227295,-1.612598,2.153320,0.141162,-0.071777,2.694043\n",
      "[-26.0, 185.0, 224.0, 60.0, 202.0, 0.94989, -0.306519, 0.004578, -0.06134, -0.007634, 0.0, 0.0, 0.510815, -7.324878, 10.112231, 0.227295, -1.612598, 2.15332, 0.141162, -0.071777, 2.694043]\n"
     ]
    },
    {
     "name": "stderr",
     "output_type": "stream",
     "text": [
      "c:\\Users\\sahil\\anaconda3\\lib\\site-packages\\sklearn\\base.py:450: UserWarning: X does not have valid feature names, but SVC was fitted with feature names\n",
      "  warnings.warn(\n"
     ]
    },
    {
     "name": "stdout",
     "output_type": "stream",
     "text": [
      "['c']\n",
      "Received from EPS32: -25,199,209,61,200,0.949646,-0.306274,0.001709,-0.065796,-0.007634,0.000000,0.007634,0.587378,-7.344018,10.184009,0.223706,-1.640112,2.222705,0.114844,-0.053833,2.768213\n",
      "[-25.0, 199.0, 209.0, 61.0, 200.0, 0.949646, -0.306274, 0.001709, -0.065796, -0.007634, 0.0, 0.007634, 0.587378, -7.344018, 10.184009, 0.223706, -1.640112, 2.222705, 0.114844, -0.053833, 2.768213]\n"
     ]
    },
    {
     "name": "stderr",
     "output_type": "stream",
     "text": [
      "c:\\Users\\sahil\\anaconda3\\lib\\site-packages\\sklearn\\base.py:450: UserWarning: X does not have valid feature names, but SVC was fitted with feature names\n",
      "  warnings.warn(\n"
     ]
    },
    {
     "name": "stdout",
     "output_type": "stream",
     "text": [
      "['c']\n",
      "Received from EPS32: -30,116,205,61,205,0.949097,-0.308167,-0.000122,-0.064575,0.007634,0.000000,0.007634,0.500049,-7.342822,10.145727,0.107666,-1.610205,2.207153,-0.002393,-0.011963,2.733521\n",
      "[-30.0, 116.0, 205.0, 61.0, 205.0, 0.949097, -0.308167, -0.000122, -0.064575, 0.007634, 0.0, 0.007634, 0.500049, -7.342822, 10.145727, 0.107666, -1.610205, 2.207153, -0.002393, -0.011963, 2.733521]\n"
     ]
    },
    {
     "name": "stderr",
     "output_type": "stream",
     "text": [
      "c:\\Users\\sahil\\anaconda3\\lib\\site-packages\\sklearn\\base.py:450: UserWarning: X does not have valid feature names, but SVC was fitted with feature names\n",
      "  warnings.warn(\n"
     ]
    },
    {
     "name": "stdout",
     "output_type": "stream",
     "text": [
      "['c']\n",
      "Received from EPS32: -73,409,204,64,214,0.947144,-0.312500,-0.004700,-0.071960,-0.007634,-0.007634,0.030534,0.596948,-7.604810,10.198364,0.068188,-1.809985,2.312427,-0.100488,-0.075366,2.933301\n",
      "[-73.0, 409.0, 204.0, 64.0, 214.0, 0.947144, -0.3125, -0.0047, -0.07196, -0.007634, -0.007634, 0.030534, 0.596948, -7.60481, 10.198364, 0.068188, -1.809985, 2.312427, -0.100488, -0.075366, 2.933301]\n"
     ]
    },
    {
     "name": "stderr",
     "output_type": "stream",
     "text": [
      "c:\\Users\\sahil\\anaconda3\\lib\\site-packages\\sklearn\\base.py:450: UserWarning: X does not have valid feature names, but SVC was fitted with feature names\n",
      "  warnings.warn(\n"
     ]
    },
    {
     "name": "stdout",
     "output_type": "stream",
     "text": [
      "['c']\n",
      "Received from EPS32: -45,456,235,61,207,0.947937,-0.310730,0.001770,-0.069397,-0.007634,-0.007634,0.015267,0.663940,-7.503125,10.200757,0.273950,-1.727441,2.293286,0.151929,-0.062207,2.878272\n",
      "[-45.0, 456.0, 235.0, 61.0, 207.0, 0.947937, -0.31073, 0.00177, -0.069397, -0.007634, -0.007634, 0.015267, 0.66394, -7.503125, 10.200757, 0.27395, -1.727441, 2.293286, 0.151929, -0.062207, 2.878272]\n"
     ]
    },
    {
     "name": "stderr",
     "output_type": "stream",
     "text": [
      "c:\\Users\\sahil\\anaconda3\\lib\\site-packages\\sklearn\\base.py:450: UserWarning: X does not have valid feature names, but SVC was fitted with feature names\n",
      "  warnings.warn(\n"
     ]
    },
    {
     "name": "stdout",
     "output_type": "stream",
     "text": [
      "['c']\n",
      "Received from EPS32: -50,402,232,60,210,0.947144,-0.313477,-0.002563,-0.067383,0.000000,-0.007634,0.000000,0.631641,-7.507910,10.166064,0.169873,-1.691553,2.292090,0.034692,-0.002393,2.853149\n",
      "[-50.0, 402.0, 232.0, 60.0, 210.0, 0.947144, -0.313477, -0.002563, -0.067383, 0.0, -0.007634, 0.0, 0.631641, -7.50791, 10.166064, 0.169873, -1.691553, 2.29209, 0.034692, -0.002393, 2.853149]\n"
     ]
    },
    {
     "name": "stderr",
     "output_type": "stream",
     "text": [
      "c:\\Users\\sahil\\anaconda3\\lib\\site-packages\\sklearn\\base.py:450: UserWarning: X does not have valid feature names, but SVC was fitted with feature names\n",
      "  warnings.warn(\n"
     ]
    },
    {
     "name": "stdout",
     "output_type": "stream",
     "text": [
      "['c']\n",
      "Received from EPS32: -50,595,249,61,209,0.946960,-0.313782,-0.002869,-0.069519,0.007634,-0.022901,0.000000,0.766821,-7.562940,10.164868,0.285913,-1.741797,2.294482,0.137573,-0.053833,2.890234\n",
      "[-50.0, 595.0, 249.0, 61.0, 209.0, 0.94696, -0.313782, -0.002869, -0.069519, 0.007634, -0.022901, 0.0, 0.766821, -7.56294, 10.164868, 0.285913, -1.741797, 2.294482, 0.137573, -0.053833, 2.890234]\n"
     ]
    },
    {
     "name": "stderr",
     "output_type": "stream",
     "text": [
      "c:\\Users\\sahil\\anaconda3\\lib\\site-packages\\sklearn\\base.py:450: UserWarning: X does not have valid feature names, but SVC was fitted with feature names\n",
      "  warnings.warn(\n"
     ]
    },
    {
     "name": "stdout",
     "output_type": "stream",
     "text": [
      "['c']\n",
      "Received from EPS32: 92,308,243,74,218,0.945801,-0.316345,-0.017456,-0.070923,0.030534,-0.045802,-0.022901,0.616089,-7.615576,10.285693,-0.147144,-1.775293,2.453589,-0.373242,0.089722,3.006274\n",
      "[92.0, 308.0, 243.0, 74.0, 218.0, 0.945801, -0.316345, -0.017456, -0.070923, 0.030534, -0.045802, -0.022901, 0.616089, -7.615576, 10.285693, -0.147144, -1.775293, 2.453589, -0.373242, 0.089722, 3.006274]\n"
     ]
    },
    {
     "name": "stderr",
     "output_type": "stream",
     "text": [
      "c:\\Users\\sahil\\anaconda3\\lib\\site-packages\\sklearn\\base.py:450: UserWarning: X does not have valid feature names, but SVC was fitted with feature names\n",
      "  warnings.warn(\n"
     ]
    },
    {
     "name": "stdout",
     "output_type": "stream",
     "text": [
      "['c']\n",
      "Received from EPS32: -84,216,181,52,213,0.948792,-0.310669,0.000793,-0.056580,-0.022901,-0.015267,0.007634,0.498853,-7.546191,10.259375,0.168677,-1.766919,2.350708,0.064600,-0.046655,2.944067\n",
      "[-84.0, 216.0, 181.0, 52.0, 213.0, 0.948792, -0.310669, 0.000793, -0.05658, -0.022901, -0.015267, 0.007634, 0.498853, -7.546191, 10.259375, 0.168677, -1.766919, 2.350708, 0.0646, -0.046655, 2.944067]\n"
     ]
    },
    {
     "name": "stderr",
     "output_type": "stream",
     "text": [
      "c:\\Users\\sahil\\anaconda3\\lib\\site-packages\\sklearn\\base.py:450: UserWarning: X does not have valid feature names, but SVC was fitted with feature names\n",
      "  warnings.warn(\n"
     ]
    },
    {
     "name": "stdout",
     "output_type": "stream",
     "text": [
      "['c']\n",
      "Received from EPS32: 67,301,393,185,226,0.946289,-0.315979,-0.004578,-0.068298,0.007634,0.007634,0.000000,0.552686,-7.491162,10.222290,0.044263,-1.636523,2.379419,-0.089722,0.123218,2.883057\n",
      "[67.0, 301.0, 393.0, 185.0, 226.0, 0.946289, -0.315979, -0.004578, -0.068298, 0.007634, 0.007634, 0.0, 0.552686, -7.491162, 10.22229, 0.044263, -1.636523, 2.379419, -0.089722, 0.123218, 2.883057]\n"
     ]
    },
    {
     "name": "stderr",
     "output_type": "stream",
     "text": [
      "c:\\Users\\sahil\\anaconda3\\lib\\site-packages\\sklearn\\base.py:450: UserWarning: X does not have valid feature names, but SVC was fitted with feature names\n",
      "  warnings.warn(\n"
     ]
    },
    {
     "name": "stdout",
     "output_type": "stream",
     "text": [
      "['o']\n",
      "Received from EPS32: 43,290,335,164,214,0.946350,-0.315613,-0.001587,-0.068909,-0.007634,-0.007634,0.007634,0.628052,-7.542603,10.198364,0.172266,-1.690356,2.350708,0.043066,0.044263,2.898608\n",
      "[43.0, 290.0, 335.0, 164.0, 214.0, 0.94635, -0.315613, -0.001587, -0.068909, -0.007634, -0.007634, 0.007634, 0.628052, -7.542603, 10.198364, 0.172266, -1.690356, 2.350708, 0.043066, 0.044263, 2.898608]\n"
     ]
    },
    {
     "name": "stderr",
     "output_type": "stream",
     "text": [
      "c:\\Users\\sahil\\anaconda3\\lib\\site-packages\\sklearn\\base.py:450: UserWarning: X does not have valid feature names, but SVC was fitted with feature names\n",
      "  warnings.warn(\n"
     ]
    },
    {
     "name": "stdout",
     "output_type": "stream",
     "text": [
      "['c']\n",
      "Received from EPS32: 43,648,334,159,218,0.945740,-0.317322,-0.004089,-0.069580,-0.007634,-0.007634,0.000000,0.638818,-7.559350,10.170850,0.129199,-1.681982,2.344727,-0.011963,0.064600,2.886646\n",
      "[43.0, 648.0, 334.0, 159.0, 218.0, 0.94574, -0.317322, -0.004089, -0.06958, -0.007634, -0.007634, 0.0, 0.638818, -7.55935, 10.17085, 0.129199, -1.681982, 2.344727, -0.011963, 0.0646, 2.886646]\n"
     ]
    },
    {
     "name": "stderr",
     "output_type": "stream",
     "text": [
      "c:\\Users\\sahil\\anaconda3\\lib\\site-packages\\sklearn\\base.py:450: UserWarning: X does not have valid feature names, but SVC was fitted with feature names\n",
      "  warnings.warn(\n"
     ]
    },
    {
     "name": "stdout",
     "output_type": "stream",
     "text": [
      "['o']\n",
      "Received from EPS32: 36,467,372,154,214,0.946899,-0.315491,-0.005737,-0.061890,0.015267,-0.007634,-0.038168,0.387598,-7.564136,10.149317,-0.100488,-1.715479,2.300464,-0.241650,0.026318,2.860327\n",
      "[36.0, 467.0, 372.0, 154.0, 214.0, 0.946899, -0.315491, -0.005737, -0.06189, 0.015267, -0.007634, -0.038168, 0.387598, -7.564136, 10.149317, -0.100488, -1.715479, 2.300464, -0.24165, 0.026318, 2.860327]\n"
     ]
    },
    {
     "name": "stderr",
     "output_type": "stream",
     "text": [
      "c:\\Users\\sahil\\anaconda3\\lib\\site-packages\\sklearn\\base.py:450: UserWarning: X does not have valid feature names, but SVC was fitted with feature names\n",
      "  warnings.warn(\n"
     ]
    },
    {
     "name": "stdout",
     "output_type": "stream",
     "text": [
      "['o']\n",
      "Received from EPS32: 23,95,319,140,214,0.946899,-0.314209,-0.001221,-0.068115,-0.007634,-0.007634,0.000000,0.671118,-7.590454,10.192383,0.228491,-1.759741,2.326782,0.092114,-0.039478,2.923730\n",
      "[23.0, 95.0, 319.0, 140.0, 214.0, 0.946899, -0.314209, -0.001221, -0.068115, -0.007634, -0.007634, 0.0, 0.671118, -7.590454, 10.192383, 0.228491, -1.759741, 2.326782, 0.092114, -0.039478, 2.92373]\n"
     ]
    },
    {
     "name": "stderr",
     "output_type": "stream",
     "text": [
      "c:\\Users\\sahil\\anaconda3\\lib\\site-packages\\sklearn\\base.py:450: UserWarning: X does not have valid feature names, but SVC was fitted with feature names\n",
      "  warnings.warn(\n"
     ]
    },
    {
     "name": "stdout",
     "output_type": "stream",
     "text": [
      "['c']\n",
      "Received from EPS32: 27,327,319,142,212,0.946472,-0.315552,-0.004028,-0.067627,-0.007634,-0.007634,0.000000,0.645996,-7.595239,10.215113,0.151929,-1.746582,2.366260,0.004785,0.011963,2.944067\n",
      "[27.0, 327.0, 319.0, 142.0, 212.0, 0.946472, -0.315552, -0.004028, -0.067627, -0.007634, -0.007634, 0.0, 0.645996, -7.595239, 10.215113, 0.151929, -1.746582, 2.36626, 0.004785, 0.011963, 2.944067]\n"
     ]
    },
    {
     "name": "stderr",
     "output_type": "stream",
     "text": [
      "c:\\Users\\sahil\\anaconda3\\lib\\site-packages\\sklearn\\base.py:450: UserWarning: X does not have valid feature names, but SVC was fitted with feature names\n",
      "  warnings.warn(\n"
     ]
    },
    {
     "name": "stdout",
     "output_type": "stream",
     "text": [
      "['c']\n",
      "Received from EPS32: -35,277,282,152,205,0.949951,-0.309021,0.007141,-0.044678,0.007634,0.022901,0.083969,0.527563,-7.568921,10.264160,0.388794,-1.808789,2.336353,0.337354,-0.119629,2.957227\n",
      "[-35.0, 277.0, 282.0, 152.0, 205.0, 0.949951, -0.309021, 0.007141, -0.044678, 0.007634, 0.022901, 0.083969, 0.527563, -7.568921, 10.26416, 0.388794, -1.808789, 2.336353, 0.337354, -0.119629, 2.957227]\n"
     ]
    },
    {
     "name": "stderr",
     "output_type": "stream",
     "text": [
      "c:\\Users\\sahil\\anaconda3\\lib\\site-packages\\sklearn\\base.py:450: UserWarning: X does not have valid feature names, but SVC was fitted with feature names\n",
      "  warnings.warn(\n"
     ]
    },
    {
     "name": "stdout",
     "output_type": "stream",
     "text": [
      "['c']\n",
      "Received from EPS32: -68,227,272,127,201,0.949768,-0.308228,-0.007629,-0.053223,0.015267,0.015267,-0.015267,0.594556,-7.617969,10.222290,0.130396,-1.887744,2.284912,-0.027515,-0.190210,2.959619\n",
      "[-68.0, 227.0, 272.0, 127.0, 201.0, 0.949768, -0.308228, -0.007629, -0.053223, 0.015267, 0.015267, -0.015267, 0.594556, -7.617969, 10.22229, 0.130396, -1.887744, 2.284912, -0.027515, -0.19021, 2.959619]\n"
     ]
    },
    {
     "name": "stderr",
     "output_type": "stream",
     "text": [
      "c:\\Users\\sahil\\anaconda3\\lib\\site-packages\\sklearn\\base.py:450: UserWarning: X does not have valid feature names, but SVC was fitted with feature names\n",
      "  warnings.warn(\n"
     ]
    },
    {
     "name": "stdout",
     "output_type": "stream",
     "text": [
      "['c']\n",
      "Received from EPS32: -22,437,282,108,178,0.949097,-0.311829,-0.004395,-0.044006,0.000000,0.000000,-0.007634,0.596948,-7.659839,10.255786,0.245239,-1.862622,2.361475,0.128003,-0.113647,3.012256\n",
      "[-22.0, 437.0, 282.0, 108.0, 178.0, 0.949097, -0.311829, -0.004395, -0.044006, 0.0, 0.0, -0.007634, 0.596948, -7.659839, 10.255786, 0.245239, -1.862622, 2.361475, 0.128003, -0.113647, 3.012256]\n"
     ]
    },
    {
     "name": "stderr",
     "output_type": "stream",
     "text": [
      "c:\\Users\\sahil\\anaconda3\\lib\\site-packages\\sklearn\\base.py:450: UserWarning: X does not have valid feature names, but SVC was fitted with feature names\n",
      "  warnings.warn(\n"
     ]
    },
    {
     "name": "stdout",
     "output_type": "stream",
     "text": [
      "['c']\n",
      "Received from EPS32: -31,402,279,108,178,0.948120,-0.314636,-0.007385,-0.044983,0.000000,0.000000,-0.007634,0.622070,-7.634717,10.242627,0.206958,-1.793237,2.383008,0.077759,-0.023926,2.988330\n",
      "[-31.0, 402.0, 279.0, 108.0, 178.0, 0.94812, -0.314636, -0.007385, -0.044983, 0.0, 0.0, -0.007634, 0.62207, -7.634717, 10.242627, 0.206958, -1.793237, 2.383008, 0.077759, -0.023926, 2.98833]\n"
     ]
    },
    {
     "name": "stderr",
     "output_type": "stream",
     "text": [
      "c:\\Users\\sahil\\anaconda3\\lib\\site-packages\\sklearn\\base.py:450: UserWarning: X does not have valid feature names, but SVC was fitted with feature names\n",
      "  warnings.warn(\n"
     ]
    },
    {
     "name": "stdout",
     "output_type": "stream",
     "text": [
      "['c']\n",
      "Received from EPS32: -67,373,275,106,178,0.947876,-0.315491,-0.009155,-0.042969,-0.007634,0.000000,-0.007634,0.596948,-7.601221,10.227076,0.160303,-1.746582,2.379419,0.029907,0.020337,2.954834\n",
      "[-67.0, 373.0, 275.0, 106.0, 178.0, 0.947876, -0.315491, -0.009155, -0.042969, -0.007634, 0.0, -0.007634, 0.596948, -7.601221, 10.227076, 0.160303, -1.746582, 2.379419, 0.029907, 0.020337, 2.954834]\n"
     ]
    },
    {
     "name": "stderr",
     "output_type": "stream",
     "text": [
      "c:\\Users\\sahil\\anaconda3\\lib\\site-packages\\sklearn\\base.py:450: UserWarning: X does not have valid feature names, but SVC was fitted with feature names\n",
      "  warnings.warn(\n"
     ]
    },
    {
     "name": "stdout",
     "output_type": "stream",
     "text": [
      "['c']\n",
      "Received from EPS32: -73,377,274,108,178,0.947876,-0.315491,-0.010132,-0.042480,0.000000,-0.007634,0.000000,0.601733,-7.607202,10.243823,0.150732,-1.753760,2.397363,0.015552,0.026318,2.972778\n",
      "[-73.0, 377.0, 274.0, 108.0, 178.0, 0.947876, -0.315491, -0.010132, -0.04248, 0.0, -0.007634, 0.0, 0.601733, -7.607202, 10.243823, 0.150732, -1.75376, 2.397363, 0.015552, 0.026318, 2.972778]\n"
     ]
    },
    {
     "name": "stderr",
     "output_type": "stream",
     "text": [
      "c:\\Users\\sahil\\anaconda3\\lib\\site-packages\\sklearn\\base.py:450: UserWarning: X does not have valid feature names, but SVC was fitted with feature names\n",
      "  warnings.warn(\n"
     ]
    },
    {
     "name": "stdout",
     "output_type": "stream",
     "text": [
      "['c']\n",
      "Received from EPS32: -68,364,267,108,198,0.947876,-0.315552,-0.010437,-0.041992,-0.007634,0.000000,0.007634,0.602930,-7.588061,10.241430,0.148340,-1.733423,2.394971,0.014355,0.041870,2.958423\n",
      "[-68.0, 364.0, 267.0, 108.0, 198.0, 0.947876, -0.315552, -0.010437, -0.041992, -0.007634, 0.0, 0.007634, 0.60293, -7.588061, 10.24143, 0.14834, -1.733423, 2.394971, 0.014355, 0.04187, 2.958423]\n"
     ]
    },
    {
     "name": "stderr",
     "output_type": "stream",
     "text": [
      "c:\\Users\\sahil\\anaconda3\\lib\\site-packages\\sklearn\\base.py:450: UserWarning: X does not have valid feature names, but SVC was fitted with feature names\n",
      "  warnings.warn(\n"
     ]
    },
    {
     "name": "stdout",
     "output_type": "stream",
     "text": [
      "['c']\n",
      "Received from EPS32: -69,364,270,103,178,0.947937,-0.315430,-0.011169,-0.041382,-0.007634,-0.007634,0.000000,0.607715,-7.592847,10.242627,0.143555,-1.740601,2.394971,0.005981,0.035889,2.963208\n",
      "[-69.0, 364.0, 270.0, 103.0, 178.0, 0.947937, -0.31543, -0.011169, -0.041382, -0.007634, -0.007634, 0.0, 0.607715, -7.592847, 10.242627, 0.143555, -1.740601, 2.394971, 0.005981, 0.035889, 2.963208]\n"
     ]
    },
    {
     "name": "stderr",
     "output_type": "stream",
     "text": [
      "c:\\Users\\sahil\\anaconda3\\lib\\site-packages\\sklearn\\base.py:450: UserWarning: X does not have valid feature names, but SVC was fitted with feature names\n",
      "  warnings.warn(\n"
     ]
    },
    {
     "name": "stdout",
     "output_type": "stream",
     "text": [
      "['c']\n",
      "Received from EPS32: 25,244,161,20,115,0.939880,-0.334167,-0.046631,-0.052490,-0.061069,-0.038168,-0.068702,0.082544,-7.522265,10.346704,-1.119727,-1.414014,2.777783,-1.437939,0.742895,2.889038\n",
      "[25.0, 244.0, 161.0, 20.0, 115.0, 0.93988, -0.334167, -0.046631, -0.05249, -0.061069, -0.038168, -0.068702, 0.082544, -7.522265, 10.346704, -1.119727, -1.414014, 2.777783, -1.437939, 0.742895, 2.889038]\n"
     ]
    },
    {
     "name": "stderr",
     "output_type": "stream",
     "text": [
      "c:\\Users\\sahil\\anaconda3\\lib\\site-packages\\sklearn\\base.py:450: UserWarning: X does not have valid feature names, but SVC was fitted with feature names\n",
      "  warnings.warn(\n"
     ]
    },
    {
     "name": "stdout",
     "output_type": "stream",
     "text": [
      "['c']\n",
      "Received from EPS32: -49,204,177,83,131,0.948975,-0.313965,-0.017517,-0.023132,0.030534,0.045802,-0.022901,0.118433,-7.272241,10.246216,-0.349316,-1.440332,2.384204,-0.471338,0.278735,2.752661\n",
      "[-49.0, 204.0, 177.0, 83.0, 131.0, 0.948975, -0.313965, -0.017517, -0.023132, 0.030534, 0.045802, -0.022901, 0.118433, -7.272241, 10.246216, -0.349316, -1.440332, 2.384204, -0.471338, 0.278735, 2.752661]\n"
     ]
    },
    {
     "name": "stderr",
     "output_type": "stream",
     "text": [
      "c:\\Users\\sahil\\anaconda3\\lib\\site-packages\\sklearn\\base.py:450: UserWarning: X does not have valid feature names, but SVC was fitted with feature names\n",
      "  warnings.warn(\n"
     ]
    },
    {
     "name": "stdout",
     "output_type": "stream",
     "text": [
      "['c']\n",
      "Received from EPS32: -150,148,105,10,115,0.955994,-0.291321,0.010620,0.031860,-0.030534,-0.015267,-0.007634,-0.330176,-7.339233,10.627832,0.050244,-1.886548,2.493066,0.180640,-0.168677,3.116333\n",
      "[-150.0, 148.0, 105.0, 10.0, 115.0, 0.955994, -0.291321, 0.01062, 0.03186, -0.030534, -0.015267, -0.007634, -0.330176, -7.339233, 10.627832, 0.050244, -1.886548, 2.493066, 0.18064, -0.168677, 3.116333]\n"
     ]
    },
    {
     "name": "stderr",
     "output_type": "stream",
     "text": [
      "c:\\Users\\sahil\\anaconda3\\lib\\site-packages\\sklearn\\base.py:450: UserWarning: X does not have valid feature names, but SVC was fitted with feature names\n",
      "  warnings.warn(\n"
     ]
    },
    {
     "name": "stdout",
     "output_type": "stream",
     "text": [
      "['c']\n",
      "Received from EPS32: -10,265,252,81,168,0.962524,-0.270447,-0.018372,-0.009827,0.259542,0.198473,-0.396947,-2.424878,-8.870483,10.481885,-2.823242,-3.771899,2.121021,-2.993115,-2.088721,3.655859\n",
      "[-10.0, 265.0, 252.0, 81.0, 168.0, 0.962524, -0.270447, -0.018372, -0.009827, 0.259542, 0.198473, -0.396947, -2.424878, -8.870483, 10.481885, -2.823242, -3.771899, 2.121021, -2.993115, -2.088721, 3.655859]\n"
     ]
    },
    {
     "name": "stderr",
     "output_type": "stream",
     "text": [
      "c:\\Users\\sahil\\anaconda3\\lib\\site-packages\\sklearn\\base.py:450: UserWarning: X does not have valid feature names, but SVC was fitted with feature names\n",
      "  warnings.warn(\n"
     ]
    },
    {
     "name": "stdout",
     "output_type": "stream",
     "text": [
      "['c']\n",
      "Received from EPS32: -125,964,983,744,957,0.507568,-0.399109,0.010498,-0.763550,0.007634,-0.007634,0.007634,11.624341,-0.936694,11.910254,5.755347,3.190503,5.233765,4.734912,-4.018335,5.668017\n",
      "[-125.0, 964.0, 983.0, 744.0, 957.0, 0.507568, -0.399109, 0.010498, -0.76355, 0.007634, -0.007634, 0.007634, 11.624341, -0.936694, 11.910254, 5.755347, 3.190503, 5.233765, 4.734912, -4.018335, 5.668017]\n"
     ]
    },
    {
     "name": "stderr",
     "output_type": "stream",
     "text": [
      "c:\\Users\\sahil\\anaconda3\\lib\\site-packages\\sklearn\\base.py:450: UserWarning: X does not have valid feature names, but SVC was fitted with feature names\n",
      "  warnings.warn(\n"
     ]
    },
    {
     "name": "stdout",
     "output_type": "stream",
     "text": [
      "['a']\n",
      "Received from EPS32: -132,903,919,675,874,0.478882,-0.356018,-0.132263,-0.791504,-0.007634,-0.015267,0.000000,11.630322,-1.220215,11.852832,4.865308,0.069385,4.878467,0.789551,-0.580200,6.820044\n",
      "[-132.0, 903.0, 919.0, 675.0, 874.0, 0.478882, -0.356018, -0.132263, -0.791504, -0.007634, -0.015267, 0.0, 11.630322, -1.220215, 11.852832, 4.865308, 0.069385, 4.878467, 0.789551, -0.5802, 6.820044]\n"
     ]
    },
    {
     "name": "stderr",
     "output_type": "stream",
     "text": [
      "c:\\Users\\sahil\\anaconda3\\lib\\site-packages\\sklearn\\base.py:450: UserWarning: X does not have valid feature names, but SVC was fitted with feature names\n",
      "  warnings.warn(\n"
     ]
    },
    {
     "name": "stdout",
     "output_type": "stream",
     "text": [
      "['a']\n",
      "Received from EPS32: -132,882,891,660,857,0.471863,-0.347473,-0.151550,-0.796082,-0.007634,-0.007634,0.000000,11.582471,-1.219019,11.818140,4.758838,-0.369653,4.833008,0.174658,-0.133984,6.788940\n",
      "[-132.0, 882.0, 891.0, 660.0, 857.0, 0.471863, -0.347473, -0.15155, -0.796082, -0.007634, -0.007634, 0.0, 11.582471, -1.219019, 11.81814, 4.758838, -0.369653, 4.833008, 0.174658, -0.133984, 6.78894]\n"
     ]
    },
    {
     "name": "stderr",
     "output_type": "stream",
     "text": [
      "c:\\Users\\sahil\\anaconda3\\lib\\site-packages\\sklearn\\base.py:450: UserWarning: X does not have valid feature names, but SVC was fitted with feature names\n",
      "  warnings.warn(\n"
     ]
    },
    {
     "name": "stdout",
     "output_type": "stream",
     "text": [
      "['a']\n",
      "Received from EPS32: -132,871,877,646,838,0.467957,-0.345886,-0.157654,-0.797852,0.007634,0.000000,-0.007634,11.553760,-1.202271,11.752344,4.697827,-0.494067,4.783960,-0.003589,0.009570,6.723145\n",
      "[-132.0, 871.0, 877.0, 646.0, 838.0, 0.467957, -0.345886, -0.157654, -0.797852, 0.007634, 0.0, -0.007634, 11.55376, -1.202271, 11.752344, 4.697827, -0.494067, 4.78396, -0.003589, 0.00957, 6.723145]\n"
     ]
    },
    {
     "name": "stderr",
     "output_type": "stream",
     "text": [
      "c:\\Users\\sahil\\anaconda3\\lib\\site-packages\\sklearn\\base.py:450: UserWarning: X does not have valid feature names, but SVC was fitted with feature names\n",
      "  warnings.warn(\n"
     ]
    },
    {
     "name": "stdout",
     "output_type": "stream",
     "text": [
      "['a']\n",
      "Received from EPS32: -136,865,861,640,829,0.466736,-0.344360,-0.156799,-0.799438,-0.007634,-0.007634,0.000000,11.595630,-1.187915,11.793017,4.764819,-0.494067,4.797119,-0.041870,-0.041870,6.779370\n",
      "[-136.0, 865.0, 861.0, 640.0, 829.0, 0.466736, -0.34436, -0.156799, -0.799438, -0.007634, -0.007634, 0.0, 11.59563, -1.187915, 11.793017, 4.764819, -0.494067, 4.797119, -0.04187, -0.04187, 6.77937]\n"
     ]
    },
    {
     "name": "stderr",
     "output_type": "stream",
     "text": [
      "c:\\Users\\sahil\\anaconda3\\lib\\site-packages\\sklearn\\base.py:450: UserWarning: X does not have valid feature names, but SVC was fitted with feature names\n",
      "  warnings.warn(\n"
     ]
    },
    {
     "name": "stdout",
     "output_type": "stream",
     "text": [
      "['a']\n",
      "Received from EPS32: 41,-52,-118,-85,102,0.485291,-0.428223,-0.156494,-0.746094,-0.068702,-0.030534,0.030534,10.026098,-1.439136,10.521362,2.275342,0.344531,4.794726,2.260986,1.604224,4.537524\n",
      "[41.0, -52.0, -118.0, -85.0, 102.0, 0.485291, -0.428223, -0.156494, -0.746094, -0.068702, -0.030534, 0.030534, 10.026098, -1.439136, 10.521362, 2.275342, 0.344531, 4.794726, 2.260986, 1.604224, 4.537524]\n"
     ]
    },
    {
     "name": "stderr",
     "output_type": "stream",
     "text": [
      "c:\\Users\\sahil\\anaconda3\\lib\\site-packages\\sklearn\\base.py:450: UserWarning: X does not have valid feature names, but SVC was fitted with feature names\n",
      "  warnings.warn(\n"
     ]
    },
    {
     "name": "stdout",
     "output_type": "stream",
     "text": [
      "['b']\n",
      "Received from EPS32: 43,-44,-139,-90,105,0.491272,-0.376770,-0.155334,-0.769836,-0.015267,0.000000,-0.007634,10.179224,-1.531250,10.335938,2.997900,-0.246436,3.789844,0.704614,0.507227,4.760034\n",
      "[43.0, -44.0, -139.0, -90.0, 105.0, 0.491272, -0.37677, -0.155334, -0.769836, -0.015267, 0.0, -0.007634, 10.179224, -1.53125, 10.335938, 2.9979, -0.246436, 3.789844, 0.704614, 0.507227, 4.760034]\n"
     ]
    },
    {
     "name": "stderr",
     "output_type": "stream",
     "text": [
      "c:\\Users\\sahil\\anaconda3\\lib\\site-packages\\sklearn\\base.py:450: UserWarning: X does not have valid feature names, but SVC was fitted with feature names\n",
      "  warnings.warn(\n"
     ]
    },
    {
     "name": "stdout",
     "output_type": "stream",
     "text": [
      "['b']\n",
      "Received from EPS32: 43,-29,-133,-74,100,0.494385,-0.356201,-0.155029,-0.777649,-0.007634,-0.007634,0.000000,10.152905,-1.514502,10.341919,3.220410,-0.424683,3.499146,0.198584,0.151929,4.767212\n",
      "[43.0, -29.0, -133.0, -74.0, 100.0, 0.494385, -0.356201, -0.155029, -0.777649, -0.007634, -0.007634, 0.0, 10.152905, -1.514502, 10.341919, 3.22041, -0.424683, 3.499146, 0.198584, 0.151929, 4.767212]\n"
     ]
    },
    {
     "name": "stderr",
     "output_type": "stream",
     "text": [
      "c:\\Users\\sahil\\anaconda3\\lib\\site-packages\\sklearn\\base.py:450: UserWarning: X does not have valid feature names, but SVC was fitted with feature names\n",
      "  warnings.warn(\n"
     ]
    },
    {
     "name": "stdout",
     "output_type": "stream",
     "text": [
      "['b']\n",
      "Received from EPS32: 28,-21,-127,-74,101,0.495728,-0.351746,-0.155273,-0.778748,-0.007634,-0.007634,-0.015267,10.052417,-1.635327,10.303638,3.173755,-0.587378,3.399853,-0.005981,0.173462,4.684668\n",
      "[28.0, -21.0, -127.0, -74.0, 101.0, 0.495728, -0.351746, -0.155273, -0.778748, -0.007634, -0.007634, -0.015267, 10.052417, -1.635327, 10.303638, 3.173755, -0.587378, 3.399853, -0.005981, 0.173462, 4.684668]\n"
     ]
    },
    {
     "name": "stderr",
     "output_type": "stream",
     "text": [
      "c:\\Users\\sahil\\anaconda3\\lib\\site-packages\\sklearn\\base.py:450: UserWarning: X does not have valid feature names, but SVC was fitted with feature names\n",
      "  warnings.warn(\n"
     ]
    },
    {
     "name": "stdout",
     "output_type": "stream",
     "text": [
      "['b']\n",
      "Received from EPS32: -154,867,880,340,394,0.520142,-0.305542,-0.148010,-0.783752,0.061069,0.244275,0.022901,10.545288,-2.184424,10.619458,4.342529,-1.342236,3.076855,-1.397266,-0.898413,5.231372\n",
      "[-154.0, 867.0, 880.0, 340.0, 394.0, 0.520142, -0.305542, -0.14801, -0.783752, 0.061069, 0.244275, 0.022901, 10.545288, -2.184424, 10.619458, 4.342529, -1.342236, 3.076855, -1.397266, -0.898413, 5.231372]\n"
     ]
    },
    {
     "name": "stderr",
     "output_type": "stream",
     "text": [
      "c:\\Users\\sahil\\anaconda3\\lib\\site-packages\\sklearn\\base.py:450: UserWarning: X does not have valid feature names, but SVC was fitted with feature names\n",
      "  warnings.warn(\n"
     ]
    },
    {
     "name": "stdout",
     "output_type": "stream",
     "text": [
      "['a']\n",
      "Received from EPS32: -173,886,920,655,848,0.504761,-0.324890,-0.142639,-0.786987,-0.007634,0.000000,-0.007634,11.910254,-1.867407,12.075342,5.487378,-0.852954,4.742090,-0.546704,-0.846973,7.231567\n",
      "[-173.0, 886.0, 920.0, 655.0, 848.0, 0.504761, -0.32489, -0.142639, -0.786987, -0.007634, 0.0, -0.007634, 11.910254, -1.867407, 12.075342, 5.487378, -0.852954, 4.74209, -0.546704, -0.846973, 7.231567]\n"
     ]
    },
    {
     "name": "stderr",
     "output_type": "stream",
     "text": [
      "c:\\Users\\sahil\\anaconda3\\lib\\site-packages\\sklearn\\base.py:450: UserWarning: X does not have valid feature names, but SVC was fitted with feature names\n",
      "  warnings.warn(\n"
     ]
    },
    {
     "name": "stdout",
     "output_type": "stream",
     "text": [
      "['a']\n",
      "Received from EPS32: -169,855,890,609,809,0.494263,-0.344543,-0.150391,-0.783875,-0.007634,0.000000,-0.007634,11.906665,-1.870996,12.046631,5.156006,-0.843384,5.014844,-0.190210,-0.177051,7.237549\n",
      "[-169.0, 855.0, 890.0, 609.0, 809.0, 0.494263, -0.344543, -0.150391, -0.783875, -0.007634, 0.0, -0.007634, 11.906665, -1.870996, 12.046631, 5.156006, -0.843384, 5.014844, -0.19021, -0.177051, 7.237549]\n"
     ]
    },
    {
     "name": "stderr",
     "output_type": "stream",
     "text": [
      "c:\\Users\\sahil\\anaconda3\\lib\\site-packages\\sklearn\\base.py:450: UserWarning: X does not have valid feature names, but SVC was fitted with feature names\n",
      "  warnings.warn(\n"
     ]
    },
    {
     "name": "stdout",
     "output_type": "stream",
     "text": [
      "['a']\n",
      "Received from EPS32: -102,495,489,256,426,0.465332,-0.269958,-0.374573,-0.755188,0.335878,-0.236641,-0.175573,11.068067,-2.951245,11.013037,3.655859,-6.032886,5.390479,-6.680078,4.300659,3.959717\n",
      "[-102.0, 495.0, 489.0, 256.0, 426.0, 0.465332, -0.269958, -0.374573, -0.755188, 0.335878, -0.236641, -0.175573, 11.068067, -2.951245, 11.013037, 3.655859, -6.032886, 5.390479, -6.680078, 4.300659, 3.959717]\n"
     ]
    },
    {
     "name": "stderr",
     "output_type": "stream",
     "text": [
      "c:\\Users\\sahil\\anaconda3\\lib\\site-packages\\sklearn\\base.py:450: UserWarning: X does not have valid feature names, but SVC was fitted with feature names\n",
      "  warnings.warn(\n"
     ]
    },
    {
     "name": "stdout",
     "output_type": "stream",
     "text": [
      "['o']\n",
      "Received from EPS32: -79,431,401,150,244,0.530762,-0.348267,-0.248962,-0.731506,-0.007634,0.000000,-0.015267,9.596631,-3.317310,9.846655,2.013355,-3.263477,3.637915,-2.598340,2.475122,3.879565\n",
      "[-79.0, 431.0, 401.0, 150.0, 244.0, 0.530762, -0.348267, -0.248962, -0.731506, -0.007634, 0.0, -0.015267, 9.596631, -3.31731, 9.846655, 2.013355, -3.263477, 3.637915, -2.59834, 2.475122, 3.879565]\n"
     ]
    },
    {
     "name": "stderr",
     "output_type": "stream",
     "text": [
      "c:\\Users\\sahil\\anaconda3\\lib\\site-packages\\sklearn\\base.py:450: UserWarning: X does not have valid feature names, but SVC was fitted with feature names\n",
      "  warnings.warn(\n"
     ]
    },
    {
     "name": "stdout",
     "output_type": "stream",
     "text": [
      "['o']\n",
      "Received from EPS32: -71,383,343,84,206,0.553284,-0.367188,-0.174744,-0.727051,-0.022901,-0.007634,-0.007634,9.338232,-3.174951,9.650464,2.210742,-1.681982,3.090015,-0.777588,1.094604,3.932202\n",
      "[-71.0, 383.0, 343.0, 84.0, 206.0, 0.553284, -0.367188, -0.174744, -0.727051, -0.022901, -0.007634, -0.007634, 9.338232, -3.174951, 9.650464, 2.210742, -1.681982, 3.090015, -0.777588, 1.094604, 3.932202]\n"
     ]
    },
    {
     "name": "stderr",
     "output_type": "stream",
     "text": [
      "c:\\Users\\sahil\\anaconda3\\lib\\site-packages\\sklearn\\base.py:450: UserWarning: X does not have valid feature names, but SVC was fitted with feature names\n",
      "  warnings.warn(\n"
     ]
    },
    {
     "name": "stdout",
     "output_type": "stream",
     "text": [
      "['c']\n",
      "Received from EPS32: 253,449,573,293,340,0.555298,-0.366943,-0.156982,-0.729614,0.007634,-0.007634,-0.007634,9.109741,-3.017041,9.509302,2.153320,-1.268066,2.830420,-0.395972,0.728540,3.682178\n",
      "[253.0, 449.0, 573.0, 293.0, 340.0, 0.555298, -0.366943, -0.156982, -0.729614, 0.007634, -0.007634, -0.007634, 9.109741, -3.017041, 9.509302, 2.15332, -1.268066, 2.83042, -0.395972, 0.72854, 3.682178]\n"
     ]
    },
    {
     "name": "stderr",
     "output_type": "stream",
     "text": [
      "c:\\Users\\sahil\\anaconda3\\lib\\site-packages\\sklearn\\base.py:450: UserWarning: X does not have valid feature names, but SVC was fitted with feature names\n",
      "  warnings.warn(\n"
     ]
    },
    {
     "name": "stdout",
     "output_type": "stream",
     "text": [
      "['s']\n",
      "Received from EPS32: 185,436,551,263,358,0.562378,-0.363770,-0.136963,-0.729858,-0.007634,-0.007634,0.000000,9.195874,-2.967993,9.626538,2.482300,-0.917554,2.787354,-0.049048,0.209351,3.837695\n",
      "[185.0, 436.0, 551.0, 263.0, 358.0, 0.562378, -0.36377, -0.136963, -0.729858, -0.007634, -0.007634, 0.0, 9.195874, -2.967993, 9.626538, 2.4823, -0.917554, 2.787354, -0.049048, 0.209351, 3.837695]\n"
     ]
    },
    {
     "name": "stderr",
     "output_type": "stream",
     "text": [
      "c:\\Users\\sahil\\anaconda3\\lib\\site-packages\\sklearn\\base.py:450: UserWarning: X does not have valid feature names, but SVC was fitted with feature names\n",
      "  warnings.warn(\n"
     ]
    },
    {
     "name": "stdout",
     "output_type": "stream",
     "text": [
      "['o']\n",
      "Received from EPS32: 166,434,525,253,323,0.563416,-0.362671,-0.132507,-0.730408,0.000000,-0.007634,-0.007634,9.176733,-2.984741,9.619360,2.520581,-0.875684,2.740698,-0.019141,0.106470,3.823340\n",
      "[166.0, 434.0, 525.0, 253.0, 323.0, 0.563416, -0.362671, -0.132507, -0.730408, 0.0, -0.007634, -0.007634, 9.176733, -2.984741, 9.61936, 2.520581, -0.875684, 2.740698, -0.019141, 0.10647, 3.82334]\n"
     ]
    },
    {
     "name": "stderr",
     "output_type": "stream",
     "text": [
      "c:\\Users\\sahil\\anaconda3\\lib\\site-packages\\sklearn\\base.py:450: UserWarning: X does not have valid feature names, but SVC was fitted with feature names\n",
      "  warnings.warn(\n"
     ]
    },
    {
     "name": "stdout",
     "output_type": "stream",
     "text": [
      "['o']\n",
      "Received from EPS32: 162,434,519,248,323,0.563660,-0.363525,-0.130310,-0.730164,-0.007634,-0.007634,0.000000,9.146826,-2.972778,9.579883,2.503833,-0.820654,2.702417,0.032300,0.068188,3.773096\n",
      "[162.0, 434.0, 519.0, 248.0, 323.0, 0.56366, -0.363525, -0.13031, -0.730164, -0.007634, -0.007634, 0.0, 9.146826, -2.972778, 9.579883, 2.503833, -0.820654, 2.702417, 0.0323, 0.068188, 3.773096]\n"
     ]
    },
    {
     "name": "stderr",
     "output_type": "stream",
     "text": [
      "c:\\Users\\sahil\\anaconda3\\lib\\site-packages\\sklearn\\base.py:450: UserWarning: X does not have valid feature names, but SVC was fitted with feature names\n",
      "  warnings.warn(\n"
     ]
    },
    {
     "name": "stdout",
     "output_type": "stream",
     "text": [
      "['o']\n",
      "Received from EPS32: 124,407,489,221,291,0.563904,-0.368103,-0.123840,-0.728821,-0.022901,-0.007634,0.022901,9.179126,-2.909375,9.528442,2.551685,-0.608911,2.684473,0.271558,-0.062207,3.741992\n",
      "[124.0, 407.0, 489.0, 221.0, 291.0, 0.563904, -0.368103, -0.12384, -0.728821, -0.022901, -0.007634, 0.022901, 9.179126, -2.909375, 9.528442, 2.551685, -0.608911, 2.684473, 0.271558, -0.062207, 3.741992]\n"
     ]
    },
    {
     "name": "stderr",
     "output_type": "stream",
     "text": [
      "c:\\Users\\sahil\\anaconda3\\lib\\site-packages\\sklearn\\base.py:450: UserWarning: X does not have valid feature names, but SVC was fitted with feature names\n",
      "  warnings.warn(\n"
     ]
    },
    {
     "name": "stdout",
     "output_type": "stream",
     "text": [
      "['o']\n",
      "Received from EPS32: 211,-25,817,520,618,0.647644,-0.390320,0.010193,-0.654297,-0.206107,0.045802,0.351145,10.367041,-3.274243,10.388575,5.489770,1.809985,3.575708,4.181030,-3.226392,4.276733\n",
      "[211.0, -25.0, 817.0, 520.0, 618.0, 0.647644, -0.39032, 0.010193, -0.654297, -0.206107, 0.045802, 0.351145, 10.367041, -3.274243, 10.388575, 5.48977, 1.809985, 3.575708, 4.18103, -3.226392, 4.276733]\n"
     ]
    },
    {
     "name": "stderr",
     "output_type": "stream",
     "text": [
      "c:\\Users\\sahil\\anaconda3\\lib\\site-packages\\sklearn\\base.py:450: UserWarning: X does not have valid feature names, but SVC was fitted with feature names\n",
      "  warnings.warn(\n"
     ]
    },
    {
     "name": "stdout",
     "output_type": "stream",
     "text": [
      "['d']\n",
      "Received from EPS32: 209,-61,858,519,728,0.671570,-0.387024,-0.067932,-0.628174,-0.015267,-0.007634,0.007634,10.151709,-3.942969,10.335938,4.492065,0.314624,3.561352,2.593555,-1.425977,4.917944\n",
      "[209.0, -61.0, 858.0, 519.0, 728.0, 0.67157, -0.387024, -0.067932, -0.628174, -0.015267, -0.007634, 0.007634, 10.151709, -3.942969, 10.335938, 4.492065, 0.314624, 3.561352, 2.593555, -1.425977, 4.917944]\n"
     ]
    },
    {
     "name": "stderr",
     "output_type": "stream",
     "text": [
      "c:\\Users\\sahil\\anaconda3\\lib\\site-packages\\sklearn\\base.py:450: UserWarning: X does not have valid feature names, but SVC was fitted with feature names\n",
      "  warnings.warn(\n"
     ]
    },
    {
     "name": "stdout",
     "output_type": "stream",
     "text": [
      "['d']\n",
      "Received from EPS32: 209,-47,816,503,701,0.645996,-0.369751,-0.135620,-0.653931,0.000000,-0.007634,-0.015267,10.088305,-3.677392,10.207934,3.631934,-0.733325,3.446509,0.760840,-0.351709,4.989722\n",
      "[209.0, -47.0, 816.0, 503.0, 701.0, 0.645996, -0.369751, -0.13562, -0.653931, 0.0, -0.007634, -0.015267, 10.088305, -3.677392, 10.207934, 3.631934, -0.733325, 3.446509, 0.76084, -0.351709, 4.989722]\n"
     ]
    },
    {
     "name": "stderr",
     "output_type": "stream",
     "text": [
      "c:\\Users\\sahil\\anaconda3\\lib\\site-packages\\sklearn\\base.py:450: UserWarning: X does not have valid feature names, but SVC was fitted with feature names\n",
      "  warnings.warn(\n"
     ]
    },
    {
     "name": "stdout",
     "output_type": "stream",
     "text": [
      "['d']\n",
      "Received from EPS32: -63,896,186,44,289,0.598267,-0.365723,-0.170593,-0.692261,-0.053435,-0.099237,-0.229008,10.361059,-3.226392,10.461548,3.397461,-1.252515,3.853247,-0.084937,0.488086,5.263672\n",
      "[-63.0, 896.0, 186.0, 44.0, 289.0, 0.598267, -0.365723, -0.170593, -0.692261, -0.053435, -0.099237, -0.229008, 10.361059, -3.226392, 10.461548, 3.397461, -1.252515, 3.853247, -0.084937, 0.488086, 5.263672]\n"
     ]
    },
    {
     "name": "stderr",
     "output_type": "stream",
     "text": [
      "c:\\Users\\sahil\\anaconda3\\lib\\site-packages\\sklearn\\base.py:450: UserWarning: X does not have valid feature names, but SVC was fitted with feature names\n",
      "  warnings.warn(\n"
     ]
    },
    {
     "name": "stdout",
     "output_type": "stream",
     "text": [
      "['f']\n",
      "Received from EPS32: -105,850,-164,-83,98,0.535461,-0.370972,-0.178467,-0.737488,-0.007634,-0.007634,0.000000,8.886035,-1.470239,9.541601,1.649683,-0.155518,3.061304,0.696240,0.992920,3.262280\n",
      "[-105.0, 850.0, -164.0, -83.0, 98.0, 0.535461, -0.370972, -0.178467, -0.737488, -0.007634, -0.007634, 0.0, 8.886035, -1.470239, 9.541601, 1.649683, -0.155518, 3.061304, 0.69624, 0.99292, 3.26228]\n"
     ]
    },
    {
     "name": "stderr",
     "output_type": "stream",
     "text": [
      "c:\\Users\\sahil\\anaconda3\\lib\\site-packages\\sklearn\\base.py:450: UserWarning: X does not have valid feature names, but SVC was fitted with feature names\n",
      "  warnings.warn(\n"
     ]
    },
    {
     "name": "stdout",
     "output_type": "stream",
     "text": [
      "['f']\n",
      "Received from EPS32: -105,799,-166,-80,97,0.540894,-0.343323,-0.166809,-0.749512,-0.007634,-0.007634,0.000000,8.935083,-1.437939,9.601416,2.122217,-0.247632,2.655762,0.277539,0.260791,3.386694\n",
      "[-105.0, 799.0, -166.0, -80.0, 97.0, 0.540894, -0.343323, -0.166809, -0.749512, -0.007634, -0.007634, 0.0, 8.935083, -1.437939, 9.601416, 2.122217, -0.247632, 2.655762, 0.277539, 0.260791, 3.386694]\n"
     ]
    },
    {
     "name": "stderr",
     "output_type": "stream",
     "text": [
      "c:\\Users\\sahil\\anaconda3\\lib\\site-packages\\sklearn\\base.py:450: UserWarning: X does not have valid feature names, but SVC was fitted with feature names\n",
      "  warnings.warn(\n"
     ]
    },
    {
     "name": "stdout",
     "output_type": "stream",
     "text": [
      "['f']\n",
      "Received from EPS32: -99,776,-166,-79,97,0.540039,-0.334045,-0.163391,-0.755066,-0.015267,-0.007634,-0.007634,8.969775,-1.442725,9.632520,2.295679,-0.324194,2.542114,0.088525,0.039478,3.439331\n",
      "[-99.0, 776.0, -166.0, -79.0, 97.0, 0.540039, -0.334045, -0.163391, -0.755066, -0.015267, -0.007634, -0.007634, 8.969775, -1.442725, 9.63252, 2.295679, -0.324194, 2.542114, 0.088525, 0.039478, 3.439331]\n"
     ]
    },
    {
     "name": "stderr",
     "output_type": "stream",
     "text": [
      "c:\\Users\\sahil\\anaconda3\\lib\\site-packages\\sklearn\\base.py:450: UserWarning: X does not have valid feature names, but SVC was fitted with feature names\n",
      "  warnings.warn(\n"
     ]
    },
    {
     "name": "stdout",
     "output_type": "stream",
     "text": [
      "['f']\n",
      "Received from EPS32: -94,766,-163,-80,96,0.531067,-0.332947,-0.167664,-0.760986,0.000000,-0.015267,-0.007634,8.828613,-1.366162,9.536817,2.116235,-0.400757,2.459570,-0.013159,0.174658,3.264673\n",
      "[-94.0, 766.0, -163.0, -80.0, 96.0, 0.531067, -0.332947, -0.167664, -0.760986, 0.0, -0.015267, -0.007634, 8.828613, -1.366162, 9.536817, 2.116235, -0.400757, 2.45957, -0.013159, 0.174658, 3.264673]\n"
     ]
    },
    {
     "name": "stderr",
     "output_type": "stream",
     "text": [
      "c:\\Users\\sahil\\anaconda3\\lib\\site-packages\\sklearn\\base.py:450: UserWarning: X does not have valid feature names, but SVC was fitted with feature names\n",
      "  warnings.warn(\n"
     ]
    },
    {
     "name": "stdout",
     "output_type": "stream",
     "text": [
      "['f']\n",
      "Received from EPS32: -32,371,185,61,220,0.716187,-0.242432,-0.171814,-0.631470,0.687023,-0.022901,0.320611,10.137354,-4.568628,11.526245,4.724145,-3.290991,3.456079,-2.365063,-2.208350,5.883349\n",
      "[-32.0, 371.0, 185.0, 61.0, 220.0, 0.716187, -0.242432, -0.171814, -0.63147, 0.687023, -0.022901, 0.320611, 10.137354, -4.568628, 11.526245, 4.724145, -3.290991, 3.456079, -2.365063, -2.20835, 5.883349]\n"
     ]
    },
    {
     "name": "stderr",
     "output_type": "stream",
     "text": [
      "c:\\Users\\sahil\\anaconda3\\lib\\site-packages\\sklearn\\base.py:450: UserWarning: X does not have valid feature names, but SVC was fitted with feature names\n",
      "  warnings.warn(\n"
     ]
    },
    {
     "name": "stdout",
     "output_type": "stream",
     "text": [
      "['c']\n",
      "Received from EPS32: -77,195,123,40,178,0.860229,-0.480164,-0.168579,-0.032898,-0.030534,0.030534,-0.061069,-0.589770,-6.883447,10.262964,-3.740796,1.102978,5.537622,-4.709790,4.834204,0.567041\n",
      "[-77.0, 195.0, 123.0, 40.0, 178.0, 0.860229, -0.480164, -0.168579, -0.032898, -0.030534, 0.030534, -0.061069, -0.58977, -6.883447, 10.262964, -3.740796, 1.102978, 5.537622, -4.70979, 4.834204, 0.567041]\n"
     ]
    },
    {
     "name": "stderr",
     "output_type": "stream",
     "text": [
      "c:\\Users\\sahil\\anaconda3\\lib\\site-packages\\sklearn\\base.py:450: UserWarning: X does not have valid feature names, but SVC was fitted with feature names\n",
      "  warnings.warn(\n"
     ]
    },
    {
     "name": "stdout",
     "output_type": "stream",
     "text": [
      "['c']\n",
      "Received from EPS32: -147,132,141,76,200,0.937622,-0.343689,-0.042847,0.029236,0.007634,-0.030534,0.000000,-0.378027,-6.698022,10.326367,-0.967798,-0.356494,2.877075,-1.241748,1.492969,2.357886\n",
      "[-147.0, 132.0, 141.0, 76.0, 200.0, 0.937622, -0.343689, -0.042847, 0.029236, 0.007634, -0.030534, 0.0, -0.378027, -6.698022, 10.326367, -0.967798, -0.356494, 2.877075, -1.241748, 1.492969, 2.357886]\n"
     ]
    },
    {
     "name": "stderr",
     "output_type": "stream",
     "text": [
      "c:\\Users\\sahil\\anaconda3\\lib\\site-packages\\sklearn\\base.py:450: UserWarning: X does not have valid feature names, but SVC was fitted with feature names\n",
      "  warnings.warn(\n"
     ]
    },
    {
     "ename": "KeyboardInterrupt",
     "evalue": "",
     "output_type": "error",
     "traceback": [
      "\u001b[1;31m---------------------------------------------------------------------------\u001b[0m",
      "\u001b[1;31mKeyboardInterrupt\u001b[0m                         Traceback (most recent call last)",
      "\u001b[1;32m~\\AppData\\Local\\Temp\\ipykernel_46704\\1308883377.py\u001b[0m in \u001b[0;36m<module>\u001b[1;34m\u001b[0m\n\u001b[0;32m     12\u001b[0m     \u001b[0mdata_list\u001b[0m\u001b[1;33m=\u001b[0m\u001b[1;33m[\u001b[0m\u001b[0mdata_list\u001b[0m\u001b[1;33m]\u001b[0m\u001b[1;33m\u001b[0m\u001b[1;33m\u001b[0m\u001b[0m\n\u001b[0;32m     13\u001b[0m     \u001b[0mprediction\u001b[0m\u001b[1;33m=\u001b[0m\u001b[0mmodel\u001b[0m\u001b[1;33m.\u001b[0m\u001b[0mpredict\u001b[0m\u001b[1;33m(\u001b[0m\u001b[0mdata_list\u001b[0m\u001b[1;33m)\u001b[0m                                                 \u001b[1;31m# Predict based on data recived\u001b[0m\u001b[1;33m\u001b[0m\u001b[1;33m\u001b[0m\u001b[0m\n\u001b[1;32m---> 14\u001b[1;33m     \u001b[0mpyttsx3\u001b[0m\u001b[1;33m.\u001b[0m\u001b[0mspeak\u001b[0m\u001b[1;33m(\u001b[0m\u001b[0mprediction\u001b[0m\u001b[1;33m[\u001b[0m\u001b[1;36m0\u001b[0m\u001b[1;33m]\u001b[0m\u001b[1;33m)\u001b[0m                                                        \u001b[1;31m# Speak whatever predicted\u001b[0m\u001b[1;33m\u001b[0m\u001b[1;33m\u001b[0m\u001b[0m\n\u001b[0m\u001b[0;32m     15\u001b[0m     \u001b[0mprint\u001b[0m\u001b[1;33m(\u001b[0m\u001b[0mprediction\u001b[0m\u001b[1;33m)\u001b[0m\u001b[1;33m\u001b[0m\u001b[1;33m\u001b[0m\u001b[0m\n",
      "\u001b[1;32mc:\\Users\\sahil\\anaconda3\\lib\\site-packages\\pyttsx3\\__init__.py\u001b[0m in \u001b[0;36mspeak\u001b[1;34m(text)\u001b[0m\n\u001b[0;32m     28\u001b[0m     \u001b[0mengine\u001b[0m \u001b[1;33m=\u001b[0m \u001b[0minit\u001b[0m\u001b[1;33m(\u001b[0m\u001b[1;33m)\u001b[0m\u001b[1;33m\u001b[0m\u001b[1;33m\u001b[0m\u001b[0m\n\u001b[0;32m     29\u001b[0m     \u001b[0mengine\u001b[0m\u001b[1;33m.\u001b[0m\u001b[0msay\u001b[0m\u001b[1;33m(\u001b[0m\u001b[0mtext\u001b[0m\u001b[1;33m)\u001b[0m\u001b[1;33m\u001b[0m\u001b[1;33m\u001b[0m\u001b[0m\n\u001b[1;32m---> 30\u001b[1;33m     \u001b[0mengine\u001b[0m\u001b[1;33m.\u001b[0m\u001b[0mrunAndWait\u001b[0m\u001b[1;33m(\u001b[0m\u001b[1;33m)\u001b[0m\u001b[1;33m\u001b[0m\u001b[1;33m\u001b[0m\u001b[0m\n\u001b[0m\u001b[0;32m     31\u001b[0m \u001b[1;33m\u001b[0m\u001b[0m\n\u001b[0;32m     32\u001b[0m \u001b[1;33m\u001b[0m\u001b[0m\n",
      "\u001b[1;32mc:\\Users\\sahil\\anaconda3\\lib\\site-packages\\pyttsx3\\engine.py\u001b[0m in \u001b[0;36mrunAndWait\u001b[1;34m(self)\u001b[0m\n\u001b[0;32m    178\u001b[0m         \u001b[0mself\u001b[0m\u001b[1;33m.\u001b[0m\u001b[0m_inLoop\u001b[0m \u001b[1;33m=\u001b[0m \u001b[1;32mTrue\u001b[0m\u001b[1;33m\u001b[0m\u001b[1;33m\u001b[0m\u001b[0m\n\u001b[0;32m    179\u001b[0m         \u001b[0mself\u001b[0m\u001b[1;33m.\u001b[0m\u001b[0m_driverLoop\u001b[0m \u001b[1;33m=\u001b[0m \u001b[1;32mTrue\u001b[0m\u001b[1;33m\u001b[0m\u001b[1;33m\u001b[0m\u001b[0m\n\u001b[1;32m--> 180\u001b[1;33m         \u001b[0mself\u001b[0m\u001b[1;33m.\u001b[0m\u001b[0mproxy\u001b[0m\u001b[1;33m.\u001b[0m\u001b[0mrunAndWait\u001b[0m\u001b[1;33m(\u001b[0m\u001b[1;33m)\u001b[0m\u001b[1;33m\u001b[0m\u001b[1;33m\u001b[0m\u001b[0m\n\u001b[0m\u001b[0;32m    181\u001b[0m \u001b[1;33m\u001b[0m\u001b[0m\n\u001b[0;32m    182\u001b[0m     \u001b[1;32mdef\u001b[0m \u001b[0mstartLoop\u001b[0m\u001b[1;33m(\u001b[0m\u001b[0mself\u001b[0m\u001b[1;33m,\u001b[0m \u001b[0museDriverLoop\u001b[0m\u001b[1;33m=\u001b[0m\u001b[1;32mTrue\u001b[0m\u001b[1;33m)\u001b[0m\u001b[1;33m:\u001b[0m\u001b[1;33m\u001b[0m\u001b[1;33m\u001b[0m\u001b[0m\n",
      "\u001b[1;32mc:\\Users\\sahil\\anaconda3\\lib\\site-packages\\pyttsx3\\driver.py\u001b[0m in \u001b[0;36mrunAndWait\u001b[1;34m(self)\u001b[0m\n\u001b[0;32m    190\u001b[0m         '''\n\u001b[0;32m    191\u001b[0m         \u001b[0mself\u001b[0m\u001b[1;33m.\u001b[0m\u001b[0m_push\u001b[0m\u001b[1;33m(\u001b[0m\u001b[0mself\u001b[0m\u001b[1;33m.\u001b[0m\u001b[0m_engine\u001b[0m\u001b[1;33m.\u001b[0m\u001b[0mendLoop\u001b[0m\u001b[1;33m,\u001b[0m \u001b[0mtuple\u001b[0m\u001b[1;33m(\u001b[0m\u001b[1;33m)\u001b[0m\u001b[1;33m)\u001b[0m\u001b[1;33m\u001b[0m\u001b[1;33m\u001b[0m\u001b[0m\n\u001b[1;32m--> 192\u001b[1;33m         \u001b[0mself\u001b[0m\u001b[1;33m.\u001b[0m\u001b[0m_driver\u001b[0m\u001b[1;33m.\u001b[0m\u001b[0mstartLoop\u001b[0m\u001b[1;33m(\u001b[0m\u001b[1;33m)\u001b[0m\u001b[1;33m\u001b[0m\u001b[1;33m\u001b[0m\u001b[0m\n\u001b[0m\u001b[0;32m    193\u001b[0m \u001b[1;33m\u001b[0m\u001b[0m\n\u001b[0;32m    194\u001b[0m     \u001b[1;32mdef\u001b[0m \u001b[0mstartLoop\u001b[0m\u001b[1;33m(\u001b[0m\u001b[0mself\u001b[0m\u001b[1;33m,\u001b[0m \u001b[0museDriverLoop\u001b[0m\u001b[1;33m)\u001b[0m\u001b[1;33m:\u001b[0m\u001b[1;33m\u001b[0m\u001b[1;33m\u001b[0m\u001b[0m\n",
      "\u001b[1;32mc:\\Users\\sahil\\anaconda3\\lib\\site-packages\\pyttsx3\\drivers\\sapi5.py\u001b[0m in \u001b[0;36mstartLoop\u001b[1;34m(self)\u001b[0m\n\u001b[0;32m    126\u001b[0m                 \u001b[0mfirst\u001b[0m \u001b[1;33m=\u001b[0m \u001b[1;32mFalse\u001b[0m\u001b[1;33m\u001b[0m\u001b[1;33m\u001b[0m\u001b[0m\n\u001b[0;32m    127\u001b[0m             \u001b[0mpythoncom\u001b[0m\u001b[1;33m.\u001b[0m\u001b[0mPumpWaitingMessages\u001b[0m\u001b[1;33m(\u001b[0m\u001b[1;33m)\u001b[0m\u001b[1;33m\u001b[0m\u001b[1;33m\u001b[0m\u001b[0m\n\u001b[1;32m--> 128\u001b[1;33m             \u001b[0mtime\u001b[0m\u001b[1;33m.\u001b[0m\u001b[0msleep\u001b[0m\u001b[1;33m(\u001b[0m\u001b[1;36m0.05\u001b[0m\u001b[1;33m)\u001b[0m\u001b[1;33m\u001b[0m\u001b[1;33m\u001b[0m\u001b[0m\n\u001b[0m\u001b[0;32m    129\u001b[0m \u001b[1;33m\u001b[0m\u001b[0m\n\u001b[0;32m    130\u001b[0m     \u001b[1;32mdef\u001b[0m \u001b[0mendLoop\u001b[0m\u001b[1;33m(\u001b[0m\u001b[0mself\u001b[0m\u001b[1;33m)\u001b[0m\u001b[1;33m:\u001b[0m\u001b[1;33m\u001b[0m\u001b[1;33m\u001b[0m\u001b[0m\n",
      "\u001b[1;31mKeyboardInterrupt\u001b[0m: "
     ]
    }
   ],
   "source": [
    "print(\"running\")\n",
    "\n",
    "while True:\n",
    "    data=get_data()\n",
    "    print(\"Received from EPS32: \"+data)\n",
    "    if (len(data)<21):\n",
    "        continue\n",
    "\n",
    "    data_list=data.split(\",\")                                                           # Split data at , & store into a list\n",
    "    data_list = list(map(float, data_list[0:5]))+list(map(float, data_list[5:]))        # Convert data into int & float as collected at source\n",
    "    print(data_list)\n",
    "    data_list=[data_list]\n",
    "    prediction=model.predict(data_list)                                                 # Predict based on data recived\n",
    "    pyttsx3.speak(prediction[0])                                                        # Speak whatever predicted \n",
    "    print(prediction)"
   ]
  }
 ],
 "metadata": {
  "kernelspec": {
   "display_name": "base",
   "language": "python",
   "name": "python3"
  },
  "language_info": {
   "codemirror_mode": {
    "name": "ipython",
    "version": 3
   },
   "file_extension": ".py",
   "mimetype": "text/x-python",
   "name": "python",
   "nbconvert_exporter": "python",
   "pygments_lexer": "ipython3",
   "version": "3.9.13"
  }
 },
 "nbformat": 4,
 "nbformat_minor": 2
}
